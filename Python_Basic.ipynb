{
  "nbformat": 4,
  "nbformat_minor": 0,
  "metadata": {
    "colab": {
      "provenance": [],
      "authorship_tag": "ABX9TyOimIDNE0+k/dgLFfIvc8Wq",
      "include_colab_link": true
    },
    "kernelspec": {
      "name": "python3",
      "display_name": "Python 3"
    },
    "language_info": {
      "name": "python"
    }
  },
  "cells": [
    {
      "cell_type": "markdown",
      "metadata": {
        "id": "view-in-github",
        "colab_type": "text"
      },
      "source": [
        "<a href=\"https://colab.research.google.com/github/gabrielwithappy/Python_study/blob/main/Python_Basic.ipynb\" target=\"_parent\"><img src=\"https://colab.research.google.com/assets/colab-badge.svg\" alt=\"Open In Colab\"/></a>"
      ]
    },
    {
      "cell_type": "markdown",
      "source": [
        "## 위치 인수, 키워드 함수, 리스트"
      ],
      "metadata": {
        "id": "aq86FmL53-VM"
      }
    },
    {
      "cell_type": "code",
      "source": [
        "def foo(a:int, b:int, c:int) -> int:\n",
        "  print(f\"{a} + {b} + {c} = {a+b+c}\")\n",
        "\n",
        "foo(*[1,2,3])\n",
        "params = [3,3,3]\n",
        "foo(*params)"
      ],
      "metadata": {
        "id": "gOXuROvN9JIv"
      },
      "execution_count": null,
      "outputs": []
    },
    {
      "cell_type": "code",
      "execution_count": null,
      "metadata": {
        "colab": {
          "base_uri": "https://localhost:8080/"
        },
        "id": "aiThrSMs3zEe",
        "outputId": "8f93c777-669f-4515-ae87-a38537e71045"
      },
      "outputs": [
        {
          "output_type": "stream",
          "name": "stdout",
          "text": [
            "*args 함수 테스트\n",
            "0th argument : 1\n",
            "1th argument : 2\n",
            "2th argument : 3\n",
            "3th argument : 4\n",
            "4th argument : 5\n",
            "5th argument : a\n",
            "6th argument : b\n",
            "7th argument : c\n",
            "\n",
            "*args 함수 테스트 with 리스트 언패킹\n",
            "0th argument : 1\n",
            "1th argument : 2\n",
            "2th argument : 3\n",
            "3th argument : 4\n",
            "4th argument : 5\n",
            "5th argument : test\n"
          ]
        }
      ],
      "source": [
        "# 리스트 언패킹을 사용하여 parameter를 전달한다.\n",
        "def many_parameters(*args):\n",
        "  for idx, arg in enumerate(args):\n",
        "    print(f\"{idx}th argument : {arg}\")\n",
        "\n",
        "print(\"*args 함수 테스트\")\n",
        "many_parameters(1,2,3,4,5,'a','b','c')\n",
        "\n",
        "print(\"\")\n",
        "print(\"*args 함수 테스트 with 리스트 언패킹\")\n",
        "params = [1,2,3,4,5,'test']\n",
        "many_parameters(*params)"
      ]
    },
    {
      "cell_type": "code",
      "source": [
        "# 가변인수 만들기\n",
        "def many_parameters(*args):\n",
        "  for idx, arg in enumerate(args):\n",
        "    print(f\"{idx}th argument : {arg}\")\n",
        "\n",
        "print(\"\")\n",
        "many_parameters(1,2,3,*[4,5])\n",
        "\n",
        "\n",
        "\n",
        "# 고정변수와 가변인수 같이 사용하기\n",
        "# 항상 고정변수가 가변인수보다 먼저 나와야 한다.\n",
        "def param_with_params(a, *args):\n",
        "  print(f\"{a}\", end = \" \")\n",
        "  for idx, arg in enumerate(args):\n",
        "      print(f\"{arg}\", end = \" \")\n",
        "\n",
        "print(\"\")\n",
        "param_with_params('I', *['am','a','boy'])"
      ],
      "metadata": {
        "colab": {
          "base_uri": "https://localhost:8080/"
        },
        "id": "MMFhZYE65POZ",
        "outputId": "59b905a8-bb35-4c9f-ed95-68a4d4fe431d"
      },
      "execution_count": null,
      "outputs": [
        {
          "output_type": "stream",
          "name": "stdout",
          "text": [
            "\n",
            "0th argument : 1\n",
            "1th argument : 2\n",
            "2th argument : 3\n",
            "3th argument : 4\n",
            "4th argument : 5\n",
            "\n",
            "I am a boy "
          ]
        }
      ]
    },
    {
      "cell_type": "code",
      "source": [
        "def book_info(name, pages):\n",
        "  print(f\"book {name} is {pages} pages\")\n",
        "\n",
        "book_info(pages=200, name=\"python\")\n"
      ],
      "metadata": {
        "colab": {
          "base_uri": "https://localhost:8080/"
        },
        "id": "HQ81GZr2Dvbx",
        "outputId": "9ec29090-464b-4b3a-b9db-e98987ed4630"
      },
      "execution_count": null,
      "outputs": [
        {
          "output_type": "stream",
          "name": "stdout",
          "text": [
            "book python is 200 pages\n"
          ]
        }
      ]
    },
    {
      "cell_type": "code",
      "source": [
        "## 키워드 인수와 딕셔너리 언패킹\n",
        "def product_info(name:str, height:int, width:int, weight:int, price:int):\n",
        "  print(f\"Product[{name}] is ({height}x{width}), {weight}kg and the pricce of {price}\")\n",
        "\n",
        "product_info(**{'name':\"TV\", 'height':300, 'width':300, 'weight':5, 'price':1000000})\n",
        "\n",
        "\n",
        "def product_info2(name:str, size:dict):\n",
        "  print(f\"product {name} is {size['height']} x {size['width']}\")\n",
        "\n",
        "product_info2(**{'name':'Car', 'size': {'height':1000, 'width': 1000}})"
      ],
      "metadata": {
        "colab": {
          "base_uri": "https://localhost:8080/"
        },
        "id": "yOShr3kB_QaF",
        "outputId": "d4dc170b-ac46-47ff-9204-daf9fe8b2c97"
      },
      "execution_count": null,
      "outputs": [
        {
          "output_type": "stream",
          "name": "stdout",
          "text": [
            "Product[TV] is (300x300), 5kg and the pricce of 1000000\n",
            "product Car is 1000 x 1000\n"
          ]
        }
      ]
    },
    {
      "cell_type": "code",
      "source": [
        "## 디폴트 인수\n",
        "def default_test_function(name=\"no name\" , pages=1):\n",
        "  info = (f\"book {name} is {pages} pages\")\n",
        "  return info\n",
        "\n",
        "print(default_test_function())\n",
        "\n"
      ],
      "metadata": {
        "colab": {
          "base_uri": "https://localhost:8080/"
        },
        "id": "A8SRQb-uDM2r",
        "outputId": "0f9334ba-ab5f-435d-a2d3-d3737df8e5b1"
      },
      "execution_count": null,
      "outputs": [
        {
          "output_type": "stream",
          "name": "stdout",
          "text": [
            "book no name is 1 pages\n"
          ]
        }
      ]
    },
    {
      "cell_type": "code",
      "source": [
        "# list는 처음생성된 리스트 객체의 주소를 다시 반환하기 때문에 원치않은 결과가 나올 수 있다.\n",
        "def default_test_list(x , l=[10]):\n",
        "  l.append(x)\n",
        "  return l\n",
        "\n",
        "r= default_test_list(20)\n",
        "print(r)\n",
        "\n",
        "l= default_test_list(100)\n",
        "print(l)\n",
        "\n",
        "print(r is l)\n"
      ],
      "metadata": {
        "colab": {
          "base_uri": "https://localhost:8080/"
        },
        "id": "uHt4LgX-Fbiz",
        "outputId": "2d187a8b-7b8a-4ebc-81b9-1f9ab270c49c"
      },
      "execution_count": null,
      "outputs": [
        {
          "output_type": "stream",
          "name": "stdout",
          "text": [
            "[10, 20]\n",
            "[10, 20, 100]\n",
            "True\n"
          ]
        }
      ]
    }
  ]
}